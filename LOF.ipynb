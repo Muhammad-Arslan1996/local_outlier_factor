{
 "cells": [
  {
   "cell_type": "code",
   "execution_count": 102,
   "metadata": {},
   "outputs": [],
   "source": [
    "import pandas as pd\n",
    "import numpy as np\n",
    "import math\n",
    "import seaborn as sns"
   ]
  },
  {
   "cell_type": "code",
   "execution_count": 103,
   "metadata": {},
   "outputs": [],
   "source": [
    "def k_neareast_neighbour(df, k):\n",
    "    data = [(float(x),float(y)) for x, y in df[['X1', 'X2']].values ]\n",
    "    nearest_neighbour = []\n",
    "    nn_distances = []\n",
    "    knn_distance = []\n",
    "    for point in data:\n",
    "        distances = [math.sqrt((point[0]-x[0] )**2+ (point[1]-x[1])**2) for x in data]\n",
    "        knn = np.argsort(distances)[1:k+1]\n",
    "        nearest_neighbour.append([i for i in knn])\n",
    "        nn_distances.append([distances[i] for i in knn])\n",
    "        knn_distance.append(distances[knn[-1]])\n",
    "    return nearest_neighbour, nn_distances, knn_distance\n",
    "\n",
    "def reachability_distance(nearest_neighbour_index, nearest_neighbour_distance, knn_distance):\n",
    "    rd = 0\n",
    "    for nni, nnd in zip(nearest_neighbour_index, nearest_neighbour_distance):\n",
    "        rd = rd + max(knn_distance[nni], nnd)\n",
    "    return rd\n",
    "    "
   ]
  },
  {
   "cell_type": "code",
   "execution_count": 117,
   "metadata": {},
   "outputs": [
    {
     "data": {
      "image/png": "[encoded data removed]",
      "text/plain": [
       "<Figure size 1080x720 with 1 Axes>"
      ]
     },
     "metadata": {},
     "output_type": "display_data"
    }
   ],
   "source": [
    "def local_outlier_factor(df, k, threshold):\n",
    "    knn = k_neareast_neighbour(df, k)\n",
    "    nearest_neighbours_indexes = knn[0]\n",
    "    nearest_neighbour_distances = knn[1]\n",
    "    knn_distance = knn[2]\n",
    "    lrd = []\n",
    "        \n",
    "    lrd = np.array([reachability_distance(x, y, knn_distance) \n",
    "          for x,y in zip(nearest_neighbours_indexes, nearest_neighbour_distances)]) / k\n",
    "    \n",
    "    df['lrd'] = lrd\n",
    "    lof = []\n",
    "    for idx, nni in enumerate(nearest_neighbours_indexes):\n",
    "        lof.append(np.mean([lrd[idx]/lrd[x] for x in nni]))\n",
    "    df['lof'] = lof\n",
    "    df_outlier = df[df['lof'] > threshold]\n",
    "\n",
    "    sns.set(rc={'figure.figsize':(15,10)})\n",
    "    sns_plot = sns.scatterplot(x=\"X1\", y=\"X2\", data=df, label='inliner')\n",
    "    sns_plot = sns.scatterplot(x=\"X1\", y=\"X2\", data=df_outlier, s=100, color='r', label='outlier')\n",
    "    sns_plot.legend(fontsize=20)\n",
    "    fig = sns_plot.get_figure()\n",
    "    fig.savefig('lof.png') \n",
    "    return df\n",
    "    \n",
    "def main():\n",
    "    df = pd.read_csv('./outliers-3.csv')\n",
    "    k = 15\n",
    "    threshold = 2\n",
    "    df_with_lof = local_outlier_factor(df, k, threshold)\n",
    "\n",
    "if __name__ == \"__main__\":\n",
    "    main()"
   ]
  },
  {
   "cell_type": "code",
   "execution_count": 15,
   "metadata": {},
   "outputs": [],
   "source": [
    "df = pd.read_csv('./outliers-3.csv')\n",
    "k = 6\n",
    "knn = k_neareast_neighbour(df, k)\n",
    "nearest_neighbours_indexes = knn[0]\n",
    "nearest_neighbour_distances = knn[1]\n",
    "knn_distance = knn[2]"
   ]
  },
  {
   "cell_type": "code",
   "execution_count": null,
   "metadata": {},
   "outputs": [],
   "source": []
  },
  {
   "cell_type": "code",
   "execution_count": 17,
   "metadata": {},
   "outputs": [
    {
     "data": {
      "text/plain": [
       "True"
      ]
     },
     "execution_count": 17,
     "metadata": {},
     "output_type": "execute_result"
    }
   ],
   "source": [
    "b = [np.amax(x) for x in nearest_neighbour_distances]\n",
    "np.array_equal(knn_distance,b)"
   ]
  },
  {
   "cell_type": "code",
   "execution_count": 183,
   "metadata": {},
   "outputs": [],
   "source": [
    "lrd = [(np.mean(x)) for x in nearest_neighbour_distances]\n",
    "df['lrd'] = lrd"
   ]
  },
  {
   "cell_type": "code",
   "execution_count": 184,
   "metadata": {},
   "outputs": [],
   "source": [
    "lof = []\n",
    "for idx, nni in enumerate(nearest_neighbours_indexes):\n",
    "    lof.append(np.mean([lrd[idx]/lrd[x] for x in nni]))"
   ]
  },
  {
   "cell_type": "code",
   "execution_count": 218,
   "metadata": {},
   "outputs": [],
   "source": [
    "df['lof'] = lof"
   ]
  },
  {
   "cell_type": "code",
   "execution_count": 203,
   "metadata": {},
   "outputs": [
    {
     "data": {
      "text/html": [
       "<div>\n",
       "<style scoped>\n",
       "    .dataframe tbody tr th:only-of-type {\n",
       "        vertical-align: middle;\n",
       "    }\n",
       "\n",
       "    .dataframe tbody tr th {\n",
       "        vertical-align: top;\n",
       "    }\n",
       "\n",
       "    .dataframe thead th {\n",
       "        text-align: right;\n",
       "    }\n",
       "</style>\n",
       "<table border=\"1\" class=\"dataframe\">\n",
       "  <thead>\n",
       "    <tr style=\"text-align: right;\">\n",
       "      <th></th>\n",
       "      <th>X1</th>\n",
       "      <th>X2</th>\n",
       "      <th>lrd</th>\n",
       "      <th>lof</th>\n",
       "    </tr>\n",
       "  </thead>\n",
       "  <tbody>\n",
       "    <tr>\n",
       "      <td>35</td>\n",
       "      <td>45.0</td>\n",
       "      <td>60.0</td>\n",
       "      <td>20.854867</td>\n",
       "      <td>5.775198</td>\n",
       "    </tr>\n",
       "    <tr>\n",
       "      <td>43</td>\n",
       "      <td>80.0</td>\n",
       "      <td>40.5</td>\n",
       "      <td>22.443131</td>\n",
       "      <td>4.783406</td>\n",
       "    </tr>\n",
       "    <tr>\n",
       "      <td>50</td>\n",
       "      <td>90.5</td>\n",
       "      <td>99.9</td>\n",
       "      <td>14.543609</td>\n",
       "      <td>2.727899</td>\n",
       "    </tr>\n",
       "    <tr>\n",
       "      <td>51</td>\n",
       "      <td>70.0</td>\n",
       "      <td>5.0</td>\n",
       "      <td>35.280933</td>\n",
       "      <td>11.205348</td>\n",
       "    </tr>\n",
       "    <tr>\n",
       "      <td>62</td>\n",
       "      <td>30.0</td>\n",
       "      <td>60.5</td>\n",
       "      <td>23.270556</td>\n",
       "      <td>8.987357</td>\n",
       "    </tr>\n",
       "    <tr>\n",
       "      <td>92</td>\n",
       "      <td>10.7</td>\n",
       "      <td>99.3</td>\n",
       "      <td>59.401519</td>\n",
       "      <td>7.166865</td>\n",
       "    </tr>\n",
       "    <tr>\n",
       "      <td>111</td>\n",
       "      <td>60.5</td>\n",
       "      <td>60.5</td>\n",
       "      <td>15.841012</td>\n",
       "      <td>2.411267</td>\n",
       "    </tr>\n",
       "    <tr>\n",
       "      <td>132</td>\n",
       "      <td>10.0</td>\n",
       "      <td>30.0</td>\n",
       "      <td>20.616738</td>\n",
       "      <td>9.288632</td>\n",
       "    </tr>\n",
       "    <tr>\n",
       "      <td>157</td>\n",
       "      <td>99.0</td>\n",
       "      <td>20.0</td>\n",
       "      <td>35.688856</td>\n",
       "      <td>4.722218</td>\n",
       "    </tr>\n",
       "  </tbody>\n",
       "</table>\n",
       "</div>"
      ],
      "text/plain": [
       "       X1    X2        lrd        lof\n",
       "35   45.0  60.0  20.854867   5.775198\n",
       "43   80.0  40.5  22.443131   4.783406\n",
       "50   90.5  99.9  14.543609   2.727899\n",
       "51   70.0   5.0  35.280933  11.205348\n",
       "62   30.0  60.5  23.270556   8.987357\n",
       "92   10.7  99.3  59.401519   7.166865\n",
       "111  60.5  60.5  15.841012   2.411267\n",
       "132  10.0  30.0  20.616738   9.288632\n",
       "157  99.0  20.0  35.688856   4.722218"
      ]
     },
     "execution_count": 203,
     "metadata": {},
     "output_type": "execute_result"
    }
   ],
   "source": [
    "df_outlier = df[df['lof'] > 2.3]\n",
    "df_outlier"
   ]
  },
  {
   "cell_type": "code",
   "execution_count": 204,
   "metadata": {},
   "outputs": [
    {
     "data": {
      "text/plain": [
       "<matplotlib.axes._subplots.AxesSubplot at 0x7fbb6b06bd90>"
      ]
     },
     "execution_count": 204,
     "metadata": {},
     "output_type": "execute_result"
    },
    {
     "data": {
      "image/png": "[encoded data removed]",
      "text/plain": [
       "<Figure size 1080x720 with 1 Axes>"
      ]
     },
     "metadata": {},
     "output_type": "display_data"
    }
   ],
   "source": [
    "sns.set(rc={'figure.figsize':(15,10)})\n",
    "sns.scatterplot(x=\"X1\", y=\"X2\", data=df)\n",
    "sns.scatterplot(x=\"X1\", y=\"X2\", data=df_outlier, s =100, color='r')"
   ]
  },
  {
   "cell_type": "code",
   "execution_count": 216,
   "metadata": {},
   "outputs": [
    {
     "data": {
      "text/html": [
       "<div>\n",
       "<style scoped>\n",
       "    .dataframe tbody tr th:only-of-type {\n",
       "        vertical-align: middle;\n",
       "    }\n",
       "\n",
       "    .dataframe tbody tr th {\n",
       "        vertical-align: top;\n",
       "    }\n",
       "\n",
       "    .dataframe thead th {\n",
       "        text-align: right;\n",
       "    }\n",
       "</style>\n",
       "<table border=\"1\" class=\"dataframe\">\n",
       "  <thead>\n",
       "    <tr style=\"text-align: right;\">\n",
       "      <th></th>\n",
       "      <th>X1</th>\n",
       "      <th>X2</th>\n",
       "    </tr>\n",
       "  </thead>\n",
       "  <tbody>\n",
       "    <tr>\n",
       "      <td>0</td>\n",
       "      <td>36.76</td>\n",
       "      <td>34.53</td>\n",
       "    </tr>\n",
       "    <tr>\n",
       "      <td>1</td>\n",
       "      <td>83.84</td>\n",
       "      <td>74.11</td>\n",
       "    </tr>\n",
       "    <tr>\n",
       "      <td>2</td>\n",
       "      <td>36.22</td>\n",
       "      <td>25.51</td>\n",
       "    </tr>\n",
       "    <tr>\n",
       "      <td>3</td>\n",
       "      <td>89.61</td>\n",
       "      <td>68.73</td>\n",
       "    </tr>\n",
       "    <tr>\n",
       "      <td>4</td>\n",
       "      <td>90.27</td>\n",
       "      <td>73.57</td>\n",
       "    </tr>\n",
       "    <tr>\n",
       "      <td>...</td>\n",
       "      <td>...</td>\n",
       "      <td>...</td>\n",
       "    </tr>\n",
       "    <tr>\n",
       "      <td>194</td>\n",
       "      <td>101.83</td>\n",
       "      <td>80.14</td>\n",
       "    </tr>\n",
       "    <tr>\n",
       "      <td>195</td>\n",
       "      <td>40.76</td>\n",
       "      <td>31.98</td>\n",
       "    </tr>\n",
       "    <tr>\n",
       "      <td>196</td>\n",
       "      <td>33.25</td>\n",
       "      <td>31.60</td>\n",
       "    </tr>\n",
       "    <tr>\n",
       "      <td>197</td>\n",
       "      <td>36.25</td>\n",
       "      <td>30.41</td>\n",
       "    </tr>\n",
       "    <tr>\n",
       "      <td>198</td>\n",
       "      <td>39.34</td>\n",
       "      <td>32.04</td>\n",
       "    </tr>\n",
       "  </tbody>\n",
       "</table>\n",
       "<p>199 rows × 2 columns</p>\n",
       "</div>"
      ],
      "text/plain": [
       "         X1     X2\n",
       "0     36.76  34.53\n",
       "1     83.84  74.11\n",
       "2     36.22  25.51\n",
       "3     89.61  68.73\n",
       "4     90.27  73.57\n",
       "..      ...    ...\n",
       "194  101.83  80.14\n",
       "195   40.76  31.98\n",
       "196   33.25  31.60\n",
       "197   36.25  30.41\n",
       "198   39.34  32.04\n",
       "\n",
       "[199 rows x 2 columns]"
      ]
     },
     "execution_count": 216,
     "metadata": {},
     "output_type": "execute_result"
    }
   ],
   "source": [
    "df"
   ]
  },
  {
   "cell_type": "code",
   "execution_count": null,
   "metadata": {},
   "outputs": [],
   "source": []
  }
 ],
 "metadata": {
  "kernelspec": {
   "display_name": "Python 3",
   "language": "python",
   "name": "python3"
  },
  "language_info": {
   "codemirror_mode": {
    "name": "ipython",
    "version": 3
   },
   "file_extension": ".py",
   "mimetype": "text/x-python",
   "name": "python",
   "nbconvert_exporter": "python",
   "pygments_lexer": "ipython3",
   "version": "3.7.4"
  }
 },
 "nbformat": 4,
 "nbformat_minor": 4
}
