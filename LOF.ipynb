{
 "cells": [
  {
   "cell_type": "code",
   "execution_count": 180,
   "metadata": {},
   "outputs": [],
   "source": [
    "import pandas as pd\n",
    "import numpy as np\n",
    "import math\n",
    "import seaborn as sns"
   ]
  },
  {
   "cell_type": "code",
   "execution_count": 181,
   "metadata": {},
   "outputs": [],
   "source": [
    "def k_neareast_neighbour(df, k):\n",
    "    #https://stackoverflow.com/questions/57107729/how-to-compute-multiple-euclidean-distances-of-all-points-in-a-dataset\n",
    "    data = [(float(x),float(y)) for x, y in df[['X1', 'X2']].values ]\n",
    "    nearest_neighbour = []\n",
    "    nn_distances = []\n",
    "    for point in data:\n",
    "        distances = [math.sqrt((point[0]-x[0] )**2+ (point[1]-x[1])**2) for x in data]\n",
    "        knn = np.argsort(distances)[1:k+1]\n",
    "        nearest_neighbour.append([i for i in knn])\n",
    "        nn_distances.append([distances[i] for i in knn])\n",
    "    return nearest_neighbour, nn_distances\n"
   ]
  },
  {
   "cell_type": "code",
   "execution_count": 182,
   "metadata": {},
   "outputs": [],
   "source": [
    "df = pd.read_csv('./outliers-3.csv')\n",
    "k = 6\n",
    "knn = k_neareast_neighbour(df, k)\n",
    "nearest_neighbours_indexes = knn[0]\n",
    "nearest_neighbour_distances = knn[1]"
   ]
  },
  {
   "cell_type": "code",
   "execution_count": 183,
   "metadata": {},
   "outputs": [],
   "source": [
    "lrd = [(np.mean(x)) for x in nearest_neighbour_distances]\n",
    "df['lrd'] = lrd"
   ]
  },
  {
   "cell_type": "code",
   "execution_count": 184,
   "metadata": {},
   "outputs": [],
   "source": [
    "lof = []\n",
    "for idx, nni in enumerate(nearest_neighbours_indexes):\n",
    "    lof.append(np.mean([lrd[idx]/lrd[x] for x in nni]))"
   ]
  },
  {
   "cell_type": "code",
   "execution_count": 185,
   "metadata": {},
   "outputs": [],
   "source": [
    "df['lof'] = lof"
   ]
  },
  {
   "cell_type": "code",
   "execution_count": 186,
   "metadata": {},
   "outputs": [
    {
     "data": {
      "text/html": [
       "<div>\n",
       "<style scoped>\n",
       "    .dataframe tbody tr th:only-of-type {\n",
       "        vertical-align: middle;\n",
       "    }\n",
       "\n",
       "    .dataframe tbody tr th {\n",
       "        vertical-align: top;\n",
       "    }\n",
       "\n",
       "    .dataframe thead th {\n",
       "        text-align: right;\n",
       "    }\n",
       "</style>\n",
       "<table border=\"1\" class=\"dataframe\">\n",
       "  <thead>\n",
       "    <tr style=\"text-align: right;\">\n",
       "      <th></th>\n",
       "      <th>X1</th>\n",
       "      <th>X2</th>\n",
       "      <th>lrd</th>\n",
       "      <th>lof</th>\n",
       "    </tr>\n",
       "  </thead>\n",
       "  <tbody>\n",
       "    <tr>\n",
       "      <td>35</td>\n",
       "      <td>45.00</td>\n",
       "      <td>60.00</td>\n",
       "      <td>20.854867</td>\n",
       "      <td>5.775198</td>\n",
       "    </tr>\n",
       "    <tr>\n",
       "      <td>43</td>\n",
       "      <td>80.00</td>\n",
       "      <td>40.50</td>\n",
       "      <td>22.443131</td>\n",
       "      <td>4.783406</td>\n",
       "    </tr>\n",
       "    <tr>\n",
       "      <td>50</td>\n",
       "      <td>90.50</td>\n",
       "      <td>99.90</td>\n",
       "      <td>14.543609</td>\n",
       "      <td>2.727899</td>\n",
       "    </tr>\n",
       "    <tr>\n",
       "      <td>51</td>\n",
       "      <td>70.00</td>\n",
       "      <td>5.00</td>\n",
       "      <td>35.280933</td>\n",
       "      <td>11.205348</td>\n",
       "    </tr>\n",
       "    <tr>\n",
       "      <td>62</td>\n",
       "      <td>30.00</td>\n",
       "      <td>60.50</td>\n",
       "      <td>23.270556</td>\n",
       "      <td>8.987357</td>\n",
       "    </tr>\n",
       "    <tr>\n",
       "      <td>92</td>\n",
       "      <td>10.70</td>\n",
       "      <td>99.30</td>\n",
       "      <td>59.401519</td>\n",
       "      <td>7.166865</td>\n",
       "    </tr>\n",
       "    <tr>\n",
       "      <td>111</td>\n",
       "      <td>60.50</td>\n",
       "      <td>60.50</td>\n",
       "      <td>15.841012</td>\n",
       "      <td>2.411267</td>\n",
       "    </tr>\n",
       "    <tr>\n",
       "      <td>123</td>\n",
       "      <td>88.89</td>\n",
       "      <td>58.43</td>\n",
       "      <td>7.057194</td>\n",
       "      <td>2.205493</td>\n",
       "    </tr>\n",
       "    <tr>\n",
       "      <td>132</td>\n",
       "      <td>10.00</td>\n",
       "      <td>30.00</td>\n",
       "      <td>20.616738</td>\n",
       "      <td>9.288632</td>\n",
       "    </tr>\n",
       "    <tr>\n",
       "      <td>157</td>\n",
       "      <td>99.00</td>\n",
       "      <td>20.00</td>\n",
       "      <td>35.688856</td>\n",
       "      <td>4.722218</td>\n",
       "    </tr>\n",
       "    <tr>\n",
       "      <td>161</td>\n",
       "      <td>74.45</td>\n",
       "      <td>54.95</td>\n",
       "      <td>14.325578</td>\n",
       "      <td>2.050034</td>\n",
       "    </tr>\n",
       "    <tr>\n",
       "      <td>193</td>\n",
       "      <td>30.80</td>\n",
       "      <td>24.20</td>\n",
       "      <td>4.197095</td>\n",
       "      <td>2.105475</td>\n",
       "    </tr>\n",
       "  </tbody>\n",
       "</table>\n",
       "</div>"
      ],
      "text/plain": [
       "        X1     X2        lrd        lof\n",
       "35   45.00  60.00  20.854867   5.775198\n",
       "43   80.00  40.50  22.443131   4.783406\n",
       "50   90.50  99.90  14.543609   2.727899\n",
       "51   70.00   5.00  35.280933  11.205348\n",
       "62   30.00  60.50  23.270556   8.987357\n",
       "92   10.70  99.30  59.401519   7.166865\n",
       "111  60.50  60.50  15.841012   2.411267\n",
       "123  88.89  58.43   7.057194   2.205493\n",
       "132  10.00  30.00  20.616738   9.288632\n",
       "157  99.00  20.00  35.688856   4.722218\n",
       "161  74.45  54.95  14.325578   2.050034\n",
       "193  30.80  24.20   4.197095   2.105475"
      ]
     },
     "execution_count": 186,
     "metadata": {},
     "output_type": "execute_result"
    }
   ],
   "source": [
    "df_outlier = df[df['lof'] > 2]\n",
    "df_outlier"
   ]
  },
  {
   "cell_type": "code",
   "execution_count": 187,
   "metadata": {},
   "outputs": [
    {
     "data": {
      "text/plain": [
       "<matplotlib.axes._subplots.AxesSubplot at 0x7fbb6380f5d0>"
      ]
     },
     "execution_count": 187,
     "metadata": {},
     "output_type": "execute_result"
    },
    {
     "data": {
      "image/png": "[encoded data removed]",
      "text/plain": [
       "<Figure size 1080x720 with 1 Axes>"
      ]
     },
     "metadata": {},
     "output_type": "display_data"
    }
   ],
   "source": [
    "sns.set(rc={'figure.figsize':(15,10)})\n",
    "sns.scatterplot(x=\"X1\", y=\"X2\", data=df)\n",
    "sns.scatterplot(x=\"X1\", y=\"X2\", data=df_outlier, color='r')"
   ]
  },
  {
   "cell_type": "code",
   "execution_count": null,
   "metadata": {},
   "outputs": [],
   "source": []
  }
 ],
 "metadata": {
  "kernelspec": {
   "display_name": "Python 3",
   "language": "python",
   "name": "python3"
  },
  "language_info": {
   "codemirror_mode": {
    "name": "ipython",
    "version": 3
   },
   "file_extension": ".py",
   "mimetype": "text/x-python",
   "name": "python",
   "nbconvert_exporter": "python",
   "pygments_lexer": "ipython3",
   "version": "3.7.4"
  }
 },
 "nbformat": 4,
 "nbformat_minor": 4
}
